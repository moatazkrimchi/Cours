{
  "nbformat": 4,
  "nbformat_minor": 0,
  "metadata": {
    "colab": {
      "name": "POO",
      "provenance": [],
      "authorship_tag": "ABX9TyNdPebvJC+qoKSco0AXlaTz",
      "include_colab_link": true
    },
    "kernelspec": {
      "name": "python3",
      "display_name": "Python 3"
    },
    "language_info": {
      "name": "python"
    }
  },
  "cells": [
    {
      "cell_type": "markdown",
      "metadata": {
        "id": "view-in-github",
        "colab_type": "text"
      },
      "source": [
        "<a href=\"https://colab.research.google.com/github/moatazkrimchi/Cours/blob/main/POO.ipynb\" target=\"_parent\"><img src=\"https://colab.research.google.com/assets/colab-badge.svg\" alt=\"Open In Colab\"/></a>"
      ]
    },
    {
      "cell_type": "code",
      "execution_count": 22,
      "metadata": {
        "id": "qPviVZGVEVer"
      },
      "outputs": [],
      "source": [
        "class Etudiant:\n",
        "  pass\n"
      ]
    },
    {
      "cell_type": "code",
      "source": [
        "print(type(Etudiant))"
      ],
      "metadata": {
        "colab": {
          "base_uri": "https://localhost:8080/"
        },
        "id": "mFhSvVNvHxk9",
        "outputId": "1ebaf24e-85ca-44ad-c54a-b99f93d571de"
      },
      "execution_count": 23,
      "outputs": [
        {
          "output_type": "stream",
          "name": "stdout",
          "text": [
            "<class 'type'>\n"
          ]
        }
      ]
    },
    {
      "cell_type": "code",
      "source": [
        "class Etudiant:\n",
        "  def __init__(self,n,a):\n",
        "    self.nom = n\n",
        "    self.age = a"
      ],
      "metadata": {
        "id": "lv5ZFMPAEeX1"
      },
      "execution_count": 28,
      "outputs": []
    },
    {
      "cell_type": "code",
      "source": [
        "# instanciation \n",
        "e1 = Etudiant('moataz',22)\n",
        "e2 = Etudiant('sophia',12)"
      ],
      "metadata": {
        "id": "dapPxC7sIYNc"
      },
      "execution_count": 31,
      "outputs": []
    },
    {
      "cell_type": "code",
      "source": [
        "e1.nom\n",
        "e2.age"
      ],
      "metadata": {
        "colab": {
          "base_uri": "https://localhost:8080/"
        },
        "id": "qx8BPAn7IejM",
        "outputId": "2efe33e5-6a0e-46d9-8785-783ccb059e1d"
      },
      "execution_count": 32,
      "outputs": [
        {
          "output_type": "execute_result",
          "data": {
            "text/plain": [
              "12"
            ]
          },
          "metadata": {},
          "execution_count": 32
        }
      ]
    },
    {
      "cell_type": "code",
      "source": [
        "class Et:\n",
        "  def __init__(self,n,a,nt):\n",
        "    self.nom = n\n",
        "    self.age = a\n",
        "    self.note = nt \n",
        "  def interet(self):\n",
        "    print(\"j'aime sophia\")\n",
        "  def niveau(self):\n",
        "    if self.note > 12 : \n",
        "      return \"validé\"\n",
        "    else : \n",
        "      return \"rattrapage\""
      ],
      "metadata": {
        "id": "BFbH8rP1EtxT"
      },
      "execution_count": 37,
      "outputs": []
    },
    {
      "cell_type": "code",
      "source": [
        "e3 = Et('samiha',22,18)"
      ],
      "metadata": {
        "id": "aQTlLEfNJAy5"
      },
      "execution_count": 38,
      "outputs": []
    },
    {
      "cell_type": "code",
      "source": [
        "e3.interet()"
      ],
      "metadata": {
        "colab": {
          "base_uri": "https://localhost:8080/"
        },
        "id": "qHqrAJk7FFU5",
        "outputId": "ee6c5ece-a819-4da6-c7d4-0aacc98d05be"
      },
      "execution_count": 36,
      "outputs": [
        {
          "output_type": "stream",
          "name": "stdout",
          "text": [
            "j'aime sophia\n"
          ]
        }
      ]
    },
    {
      "cell_type": "code",
      "source": [
        "e3.niveau()"
      ],
      "metadata": {
        "colab": {
          "base_uri": "https://localhost:8080/",
          "height": 35
        },
        "id": "IJHNOPwPJJLC",
        "outputId": "f0c4e79c-49be-4813-c979-a5c41bb85370"
      },
      "execution_count": 39,
      "outputs": [
        {
          "output_type": "execute_result",
          "data": {
            "application/vnd.google.colaboratory.intrinsic+json": {
              "type": "string"
            },
            "text/plain": [
              "'validé'"
            ]
          },
          "metadata": {},
          "execution_count": 39
        }
      ]
    },
    {
      "cell_type": "code",
      "source": [
        "#Héritage\n",
        "\n",
        "class Oiseau : \n",
        "  def __init__(self,a):\n",
        "    self.age = a\n",
        "  def vole(self):\n",
        "    print(\"je vol\")"
      ],
      "metadata": {
        "id": "uYurIpwUJ0Rp"
      },
      "execution_count": 56,
      "outputs": []
    },
    {
      "cell_type": "code",
      "source": [
        "class Perroquet(Oiseau):\n",
        "  def parle(self):\n",
        "    print(\"je parle\")\n",
        "  def vole(self):\n",
        "    print(\"je ne vol pas\")"
      ],
      "metadata": {
        "id": "d_s61EoiKBOa"
      },
      "execution_count": 54,
      "outputs": []
    },
    {
      "cell_type": "code",
      "source": [
        "p1 = Perroquet(2)"
      ],
      "metadata": {
        "id": "vtpUM453KBYJ"
      },
      "execution_count": 57,
      "outputs": []
    },
    {
      "cell_type": "code",
      "source": [
        "p1.vole()"
      ],
      "metadata": {
        "colab": {
          "base_uri": "https://localhost:8080/"
        },
        "id": "BnwcuY8yKK-h",
        "outputId": "9df23c4f-12aa-41e2-ce4f-3e1e79af9beb"
      },
      "execution_count": 58,
      "outputs": [
        {
          "output_type": "stream",
          "name": "stdout",
          "text": [
            "je ne vol pas\n"
          ]
        }
      ]
    },
    {
      "cell_type": "code",
      "source": [
        "p1.parle()"
      ],
      "metadata": {
        "colab": {
          "base_uri": "https://localhost:8080/"
        },
        "id": "6vhfWy_WKUgU",
        "outputId": "0374a5c2-1e65-4b9d-f571-1aa1e3da5f1d"
      },
      "execution_count": 47,
      "outputs": [
        {
          "output_type": "stream",
          "name": "stdout",
          "text": [
            "je parle\n"
          ]
        }
      ]
    },
    {
      "cell_type": "code",
      "source": [
        "o1 = Oiseau(3)"
      ],
      "metadata": {
        "id": "YvzESwr8KWxj"
      },
      "execution_count": 48,
      "outputs": []
    },
    {
      "cell_type": "code",
      "source": [
        "o1.parle()"
      ],
      "metadata": {
        "colab": {
          "base_uri": "https://localhost:8080/",
          "height": 165
        },
        "id": "-JZNIZHbKaSL",
        "outputId": "eb0b60d7-cc67-4596-f68b-4ce2ef0d7332"
      },
      "execution_count": 49,
      "outputs": [
        {
          "output_type": "error",
          "ename": "AttributeError",
          "evalue": "ignored",
          "traceback": [
            "\u001b[0;31m---------------------------------------------------------------------------\u001b[0m",
            "\u001b[0;31mAttributeError\u001b[0m                            Traceback (most recent call last)",
            "\u001b[0;32m<ipython-input-49-a86fe578ba31>\u001b[0m in \u001b[0;36m<module>\u001b[0;34m()\u001b[0m\n\u001b[0;32m----> 1\u001b[0;31m \u001b[0mo1\u001b[0m\u001b[0;34m.\u001b[0m\u001b[0mparle\u001b[0m\u001b[0;34m(\u001b[0m\u001b[0;34m)\u001b[0m\u001b[0;34m\u001b[0m\u001b[0;34m\u001b[0m\u001b[0m\n\u001b[0m",
            "\u001b[0;31mAttributeError\u001b[0m: 'Oiseau' object has no attribute 'parle'"
          ]
        }
      ]
    },
    {
      "cell_type": "code",
      "source": [
        ""
      ],
      "metadata": {
        "id": "t-VjXTf0Kcrv"
      },
      "execution_count": null,
      "outputs": []
    }
  ]
}